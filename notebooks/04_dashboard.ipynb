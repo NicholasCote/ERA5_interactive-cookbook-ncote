{
 "cells": [
  {
   "cell_type": "markdown",
   "id": "1ed2fbee-d7c3-40a7-af56-cb9cf8669670",
   "metadata": {},
   "source": [
    "# Creating an Interactive Dashboard using `hvPlot` and `Panel`"
   ]
  },
  {
   "cell_type": "markdown",
   "id": "34dbdefb-5cdc-4b3d-802a-3bbe94771cf3",
   "metadata": {},
   "source": [
    "---"
   ]
  }
 ],
 "metadata": {
  "kernelspec": {
   "display_name": "Python [conda env:uxarray-geometry] *",
   "language": "python",
   "name": "conda-env-uxarray-geometry-py"
  },
  "language_info": {
   "codemirror_mode": {
    "name": "ipython",
    "version": 3
   },
   "file_extension": ".py",
   "mimetype": "text/x-python",
   "name": "python",
   "nbconvert_exporter": "python",
   "pygments_lexer": "ipython3",
   "version": "3.10.13"
  }
 },
 "nbformat": 4,
 "nbformat_minor": 5
}
